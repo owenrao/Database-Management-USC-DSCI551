{
 "cells": [
  {
   "cell_type": "markdown",
   "id": "b7514caf",
   "metadata": {},
   "source": [
    "# Lab 3: MongoDB"
   ]
  },
  {
   "cell_type": "markdown",
   "id": "01273434",
   "metadata": {},
   "source": [
    "## Questions:"
   ]
  },
  {
   "cell_type": "markdown",
   "id": "dfb43a00",
   "metadata": {},
   "source": [
    "### 1. Find out how many books have “odd” in their titles (case insensitive) and a rank of at least 10. "
   ]
  },
  {
   "cell_type": "markdown",
   "id": "4aa7d8de",
   "metadata": {},
   "source": [
    "\\> db.nyt2.find({\"title\":/odd/i,\"rank\":{$gte:10}}).pretty()"
   ]
  },
  {
   "cell_type": "code",
   "execution_count": null,
   "id": "694ade50",
   "metadata": {},
   "outputs": [],
   "source": [
    "{\n",
    "        \"_id\" : ObjectId(\"5b4aa4ead3089013507db1e6\"),\n",
    "        \"bestsellers_date\" : ISODate(\"2008-06-21T00:00:00Z\"),\n",
    "        \"published_date\" : ISODate(\"2008-07-06T00:00:00Z\"),\n",
    "        \"amazon_product_url\" : \"http://www.amazon.com/Odd-Hours-Dean-Koontz/dp/0553807056?tag=NYTBS-20\",\n",
    "        \"author\" : \"Dean R Koontz\",\n",
    "        \"description\" : \"Odd Thomas, who can communicate with the dead, confronts evil forces in a Californ\n",
    "ia coastal town.\",\n",
    "        \"price\" : 27,\n",
    "        \"publisher\" : \"Bantam\",\n",
    "        \"title\" : \"ODD HOURS\",\n",
    "        \"rank\" : 12,\n",
    "        \"rank_last_week\" : 8,\n",
    "        \"weeks_on_list\" : 5\n",
    "}\n",
    "{\n",
    "        \"_id\" : ObjectId(\"5b4aa4ead3089013507db1fc\"),\n",
    "        \"bestsellers_date\" : ISODate(\"2008-06-28T00:00:00Z\"),\n",
    "        \"published_date\" : ISODate(\"2008-07-13T00:00:00Z\"),\n",
    "        \"amazon_product_url\" : \"http://www.amazon.com/Odd-Hours-Dean-Koontz/dp/0553807056?tag=NYTBS-20\",\n",
    "        \"author\" : \"Dean R Koontz\",\n",
    "        \"description\" : \"Odd Thomas, who can communicate with the dead, confronts evil forces in a Californ\n",
    "ia coastal town.\",\n",
    "        \"price\" : 27,\n",
    "        \"publisher\" : \"Bantam\",\n",
    "        \"title\" : \"ODD HOURS\",\n",
    "        \"rank\" : 14,\n",
    "        \"rank_last_week\" : 12,\n",
    "        \"weeks_on_list\" : 6\n",
    "}\n",
    "{\n",
    "        \"_id\" : ObjectId(\"5b4aa4ead3089013507db216\"),\n",
    "        \"bestsellers_date\" : ISODate(\"2008-07-05T00:00:00Z\"),\n",
    "        \"published_date\" : ISODate(\"2008-07-20T00:00:00Z\"),\n",
    "        \"amazon_product_url\" : \"http://www.amazon.com/Odd-Hours-Dean-Koontz/dp/0553807056?tag=NYTBS-20\",\n",
    "        \"author\" : \"Dean R Koontz\",\n",
    "        \"description\" : \"Odd Thomas, who can communicate with the dead, confronts evil forces in a Californ\n",
    "ia coastal town.\",\n",
    "        \"price\" : 0,\n",
    "        \"publisher\" : \"Bantam\",\n",
    "        \"title\" : \"ODD HOURS\",\n",
    "        \"rank\" : 20,\n",
    "        \"rank_last_week\" : 0,\n",
    "        \"weeks_on_list\" : 0\n",
    "}\n",
    "{\n",
    "        \"_id\" : ObjectId(\"5b4aa4ead3089013507dbf18\"),\n",
    "        \"bestsellers_date\" : ISODate(\"2011-09-17T00:00:00Z\"),\n",
    "        \"published_date\" : ISODate(\"2011-10-02T00:00:00Z\"),\n",
    "        \"amazon_product_url\" : \"http://www.amazon.com/Goddess-Vengeance-Jackie-Collins-ebook/dp/B004H1TC3Y?\n",
    "tag=NYTBS-20\",\n",
    "        \"author\" : \"Jackie Collins\",\n",
    "        \"description\" : \"Lucky Santangelo fends off a Middle Eastern prince who wants to buy her Las Vegas\n",
    "hotel complex.\",\n",
    "        \"price\" : 26.99,\n",
    "        \"publisher\" : \"St. Martin‘s\",\n",
    "        \"title\" : \"GODDESS OF VENGEANCE\",\n",
    "        \"rank\" : 10,\n",
    "        \"rank_last_week\" : 0,\n",
    "        \"weeks_on_list\" : 1\n",
    "}\n",
    "{\n",
    "        \"_id\" : ObjectId(\"5b4aa4ead3089013507dbf2f\"),\n",
    "        \"bestsellers_date\" : ISODate(\"2011-09-24T00:00:00Z\"),\n",
    "        \"published_date\" : ISODate(\"2011-10-09T00:00:00Z\"),\n",
    "        \"amazon_product_url\" : \"http://www.amazon.com/Goddess-Vengeance-Jackie-Collins-ebook/dp/B004H1TC3Y?\n",
    "tag=NYTBS-20\",\n",
    "        \"author\" : \"Jackie Collins\",\n",
    "        \"description\" : \"Lucky Santangelo fends off a Middle Eastern prince who wants to buy her Las Vegas\n",
    "hotel complex.\",\n",
    "        \"price\" : 26.99,\n",
    "        \"publisher\" : \"St. Martin’s\",\n",
    "        \"title\" : \"GODDESS OF VENGEANCE\",\n",
    "        \"rank\" : 13,\n",
    "        \"rank_last_week\" : 10,\n",
    "        \"weeks_on_list\" : 2\n",
    "}\n",
    "{\n",
    "        \"_id\" : ObjectId(\"5b4aa4ead3089013507dc301\"),\n",
    "        \"bestsellers_date\" : ISODate(\"2012-09-01T00:00:00Z\"),\n",
    "        \"published_date\" : ISODate(\"2012-09-16T00:00:00Z\"),\n",
    "        \"amazon_product_url\" : \"http://www.amazon.com/Odd-Apocalypse-An-Thomas-Novel-ebook/dp/B0064C3TWE?ta\n",
    "g=NYTBS-20\",\n",
    "        \"author\" : \"Dean Koontz\",\n",
    "        \"description\" : \"Odd Thomas, who can communicate with the dead, explores the mysteries of an old es\n",
    "tate now owned by a billionaire.\",\n",
    "        \"price\" : 28,\n",
    "        \"publisher\" : \"Bantam\",\n",
    "        \"title\" : \"ODD APOCALYPSE\",\n",
    "        \"rank\" : 11,\n",
    "        \"rank_last_week\" : 7,\n",
    "        \"weeks_on_list\" : 5\n",
    "}\n",
    "nia to meet one last challenge.\",\n",
    "        \"price\" : 0,\n",
    "        \"publisher\" : \"Bantam\",\n",
    "        \"title\" : \"SAINT ODD\",\n",
    "        \"rank\" : 13,\n",
    "        \"rank_last_week\" : 8,\n",
    "        \"weeks_on_list\" : 5\n",
    "}\n",
    "{\n",
    "        \"_id\" : ObjectId(\"5b4aa4ead3089013507dcd1b\"),\n",
    "        \"bestsellers_date\" : ISODate(\"2015-02-21T00:00:00Z\"),\n",
    "        \"published_date\" : ISODate(\"2015-03-08T00:00:00Z\"),\n",
    "        \"amazon_product_url\" : \"http://www.amazon.com/Saint-Odd-An-Thomas-Novel-ebook/dp/B00JI4ZSF6?tag=NYTBS-20\",\n",
    "        \"author\" : \"Dean Koontz\",\n",
    "        \"description\" : \"The final adventure of Odd Thomas, a young fry cook with occult powers.\",\n",
    "        \"price\" : 0,\n",
    "        \"publisher\" : \"Bantam\",\n",
    "        \"title\" : \"SAINT ODD\",\n",
    "        \"rank\" : 17,\n",
    "        \"rank_last_week\" : 0,\n",
    "        \"weeks_on_list\" : 0\n",
    "}\n",
    "{\n",
    "        \"_id\" : ObjectId(\"5b4aa4ead3089013507dd5f2\"),\n",
    "        \"bestsellers_date\" : ISODate(\"2017-05-27T00:00:00Z\"),\n",
    "        \"published_date\" : ISODate(\"2017-06-11T00:00:00Z\"),\n",
    "        \"amazon_product_url\" : \"https://www.amazon.com/Against-All-Odds-Danielle-Steel-ebook/dp/B01JWDZ7TE?tag=NYTBS-20\",\n",
    "        \"author\" : \"Danielle Steel\",\n",
    "        \"description\" : \"A mother must learn to let her adult children make their own decisions.\",\n",
    "        \"price\" : 0,\n",
    "        \"publisher\" : \"Delacorte\",\n",
    "        \"title\" : \"AGAINST ALL ODDS\",\n",
    "        \"rank\" : 10,\n",
    "        \"rank_last_week\" : 9,\n",
    "        \"weeks_on_list\" : 4\n",
    "}\n"
   ]
  },
  {
   "cell_type": "markdown",
   "id": "97330396",
   "metadata": {},
   "source": [
    "### 2.\tAdd a new attribute/field “read” for all books by “\"John Grisham” and “Zadie Smith” and set their values to true. Show the response from MongoDB after executing Ruiyour script."
   ]
  },
  {
   "cell_type": "markdown",
   "id": "24830ef5",
   "metadata": {},
   "source": [
    "\\> db.nyt2.update({\"author\":{$in:[\"John Grisham\",\"Zadie Smith\"]}},{$set:{\"read\":true}},{\"multi\":true})"
   ]
  },
  {
   "cell_type": "code",
   "execution_count": null,
   "id": "7d85d265",
   "metadata": {},
   "outputs": [],
   "source": [
    "WriteResult({ \"nMatched\" : 235, \"nUpserted\" : 0, \"nModified\" : 235 })"
   ]
  },
  {
   "cell_type": "markdown",
   "id": "9496c42c",
   "metadata": {},
   "source": [
    "### 3.\tFind out how many books which do not have the “read” field."
   ]
  },
  {
   "cell_type": "markdown",
   "id": "43212499",
   "metadata": {},
   "source": [
    "\\> db.nyt2.count({\"read\":{$ne:true}})"
   ]
  },
  {
   "cell_type": "code",
   "execution_count": null,
   "id": "37c7b747",
   "metadata": {},
   "outputs": [],
   "source": [
    "9960"
   ]
  },
  {
   "cell_type": "markdown",
   "id": "76b2cfdb",
   "metadata": {},
   "source": [
    "### 4.\tFind out the titles of books whose price is between 10 and 20 (inclusive). Output only the titles. Output the same title only once."
   ]
  },
  {
   "cell_type": "markdown",
   "id": "b782763d",
   "metadata": {},
   "source": [
    "\\> db.nyt2.distinct(\"title\",{\"price\":{\\\\$gte:10,$lte:20}})"
   ]
  },
  {
   "cell_type": "code",
   "execution_count": null,
   "id": "4dd6fe61",
   "metadata": {},
   "outputs": [],
   "source": [
    "[\n",
    "        \"1225 CHRISTMAS TREE LANE\",\n",
    "        \"A CEDAR COVE CHRISTMAS\",\n",
    "        \"A WALLFLOWER CHRISTMAS\",\n",
    "        \"A WINTER DREAM\",\n",
    "        \"ANGELS AT THE TABLE\",\n",
    "        \"BLOCKADE BILLY\",\n",
    "        \"CALL ME MRS. MIRACLE\",\n",
    "        \"GRACE\",\n",
    "        \"HEAT WAVE\",\n",
    "        \"INTO THE DREAMING\",\n",
    "        \"LOST DECEMBER\",\n",
    "        \"PROMISE ME\",\n",
    "        \"THE BRIDGE\",\n",
    "        \"THE CHRISTMAS LIST\",\n",
    "        \"THE CHRISTMAS SWEATER\",\n",
    "        \"THE CLONE WARS\",\n",
    "        \"THE PERFECT CHRISTMAS\",\n",
    "        \"THE ROAD TO GRACE\"\n",
    "]"
   ]
  },
  {
   "cell_type": "markdown",
   "id": "9cf14f71",
   "metadata": {},
   "source": [
    "### 5.\tFor each publisher, find out the maximum price of best sellers published by the publisher. Order the publishers by the descending order of the maximum price. Output the first 10 in the list."
   ]
  },
  {
   "cell_type": "markdown",
   "id": "3dcac7f4",
   "metadata": {},
   "source": [
    "\\> db.nyt2.aggregate({\"\\\\$group\":{\"publisher\":\"\\\\$publisher\",\"max_price\":{\\\\$max:\"\\\\$price\"}}},{\\\\$sort:{\"max_price\":-1}},{\\\\$limit:10})"
   ]
  },
  {
   "cell_type": "code",
   "execution_count": null,
   "id": "f613f7cc",
   "metadata": {},
   "outputs": [],
   "source": [
    "{ \"_id\" : \"Dutton\", \"max_price\" : 36 }\n",
    "{ \"_id\" : \"Morrow/HarperCollins\", \"max_price\" : 35 }\n",
    "{ \"_id\" : \"Scribner\", \"max_price\" : 35 }\n",
    "{ \"_id\" : \"Bantam\", \"max_price\" : 35 }\n",
    "{ \"_id\" : \"Little, Brown\", \"max_price\" : 35 }\n",
    "{ \"_id\" : \"Tor/Tom Doherty\", \"max_price\" : 34.99 }\n",
    "{ \"_id\" : \"Knopf\", \"max_price\" : 30.5 }\n",
    "{ \"_id\" : \"Delacorte\", \"max_price\" : 30 }\n",
    "{ \"_id\" : \"Ace\", \"max_price\" : 30 }\n",
    "{ \"_id\" : \"Crown\", \"max_price\" : 30 }"
   ]
  }
 ],
 "metadata": {
  "kernelspec": {
   "display_name": "Python 3 (ipykernel)",
   "language": "python",
   "name": "python3"
  },
  "language_info": {
   "codemirror_mode": {
    "name": "ipython",
    "version": 3
   },
   "file_extension": ".py",
   "mimetype": "text/x-python",
   "name": "python",
   "nbconvert_exporter": "python",
   "pygments_lexer": "ipython3",
   "version": "3.9.7"
  },
  "toc": {
   "base_numbering": 1,
   "nav_menu": {},
   "number_sections": true,
   "sideBar": true,
   "skip_h1_title": false,
   "title_cell": "Table of Contents",
   "title_sidebar": "Contents",
   "toc_cell": false,
   "toc_position": {},
   "toc_section_display": true,
   "toc_window_display": false
  },
  "varInspector": {
   "cols": {
    "lenName": 16,
    "lenType": 16,
    "lenVar": 40
   },
   "kernels_config": {
    "python": {
     "delete_cmd_postfix": "",
     "delete_cmd_prefix": "del ",
     "library": "var_list.py",
     "varRefreshCmd": "print(var_dic_list())"
    },
    "r": {
     "delete_cmd_postfix": ") ",
     "delete_cmd_prefix": "rm(",
     "library": "var_list.r",
     "varRefreshCmd": "cat(var_dic_list()) "
    }
   },
   "types_to_exclude": [
    "module",
    "function",
    "builtin_function_or_method",
    "instance",
    "_Feature"
   ],
   "window_display": false
  }
 },
 "nbformat": 4,
 "nbformat_minor": 5
}
