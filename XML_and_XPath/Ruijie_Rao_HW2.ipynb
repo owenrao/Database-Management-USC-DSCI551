{
 "cells": [
  {
   "cell_type": "code",
   "execution_count": 53,
   "id": "ab5a466c",
   "metadata": {
    "ExecuteTime": {
     "end_time": "2022-02-11T01:04:02.811642Z",
     "start_time": "2022-02-11T01:04:02.795173Z"
    }
   },
   "outputs": [],
   "source": [
    "from lxml import objectify\n",
    "import json"
   ]
  },
  {
   "cell_type": "markdown",
   "id": "6a9dac3c",
   "metadata": {},
   "source": [
    "## Input"
   ]
  },
  {
   "cell_type": "code",
   "execution_count": 55,
   "id": "7a17d3d3",
   "metadata": {
    "ExecuteTime": {
     "end_time": "2022-02-11T01:06:16.381607Z",
     "start_time": "2022-02-11T01:06:16.371634Z"
    }
   },
   "outputs": [],
   "source": [
    "input_path = \"fsimage564.xml\"\n",
    "output_path = \"stats.json\""
   ]
  },
  {
   "cell_type": "markdown",
   "id": "d0c26d72",
   "metadata": {},
   "source": [
    "## Data Importation"
   ]
  },
  {
   "cell_type": "code",
   "execution_count": 37,
   "id": "e60c9375",
   "metadata": {
    "ExecuteTime": {
     "end_time": "2022-02-11T00:47:11.816432Z",
     "start_time": "2022-02-11T00:47:11.811445Z"
    }
   },
   "outputs": [],
   "source": [
    "xml = objectify.parse(open(input_path))\n",
    "root = xml.getroot()"
   ]
  },
  {
   "cell_type": "code",
   "execution_count": 38,
   "id": "48e32a08",
   "metadata": {
    "ExecuteTime": {
     "end_time": "2022-02-11T00:47:12.270497Z",
     "start_time": "2022-02-11T00:47:12.252316Z"
    }
   },
   "outputs": [],
   "source": [
    "def gen_IND(root):\n",
    "    INodeDirectory = {\"directory\":[]}\n",
    "    for directory in root[\"INodeDirectorySection\"].getchildren():\n",
    "        directory_node = {}\n",
    "        directory_node[\"parent\"] = directory[\"parent\"].text\n",
    "        directory_node[\"child\"] = []\n",
    "        for child in directory.getchildren()[1:]:\n",
    "            directory_node[\"child\"].append(child.text)\n",
    "        INodeDirectory[\"directory\"].append(directory_node)\n",
    "    return INodeDirectory"
   ]
  },
  {
   "cell_type": "code",
   "execution_count": 39,
   "id": "dfe8e404",
   "metadata": {
    "ExecuteTime": {
     "end_time": "2022-02-11T00:47:12.767054Z",
     "start_time": "2022-02-11T00:47:12.749100Z"
    }
   },
   "outputs": [],
   "source": [
    "def gen_IN(root):\n",
    "    INode = {\"lastInodeId\":root[\"INodeSection\"][\"lastInodeId\"].text,\n",
    "            \"numInodes\":root[\"INodeSection\"][\"numInodes\"].text,\n",
    "            \"inode\":[]}\n",
    "    for inode in root[\"INodeSection\"].getchildren()[2:]:\n",
    "        inode_dict = {child.tag:child.text for child in inode.getchildren() if child.tag != \"blocks\"}\n",
    "        try:\n",
    "            inode_dict[\"blocks\"] = [{child.tag:child.text for child in block.getchildren()} for block in inode[\"blocks\"].getchildren()]\n",
    "        except:\n",
    "            pass\n",
    "        INode[\"inode\"].append(inode_dict)\n",
    "    return INode"
   ]
  },
  {
   "cell_type": "code",
   "execution_count": 40,
   "id": "db14d9bc",
   "metadata": {
    "ExecuteTime": {
     "end_time": "2022-02-11T00:47:13.763830Z",
     "start_time": "2022-02-11T00:47:13.747275Z"
    }
   },
   "outputs": [],
   "source": [
    "INodeDirectory = gen_IND(root)\n",
    "INode = gen_IN(root)"
   ]
  },
  {
   "cell_type": "code",
   "execution_count": 31,
   "id": "9cd8ec08",
   "metadata": {
    "ExecuteTime": {
     "end_time": "2022-02-11T00:42:52.610204Z",
     "start_time": "2022-02-11T00:42:52.603222Z"
    }
   },
   "outputs": [],
   "source": [
    "def file_list(INode):\n",
    "    return [file_dict for file_dict in INode[\"inode\"] if file_dict[\"type\"]==\"FILE\"]\n",
    "def dir_list(INode):\n",
    "    return [dir_dict for dir_dict in INode[\"inode\"] if dir_dict[\"type\"]==\"DIRECTORY\"]"
   ]
  },
  {
   "cell_type": "code",
   "execution_count": 26,
   "id": "669e5e64",
   "metadata": {
    "ExecuteTime": {
     "end_time": "2022-02-11T00:35:05.035037Z",
     "start_time": "2022-02-11T00:35:05.020070Z"
    }
   },
   "outputs": [],
   "source": [
    "def find_directory_depth(INodeDirectory):\n",
    "    def recursion(parent_id):\n",
    "        max_depth = 0\n",
    "        try:\n",
    "            child_list = [dic for dic in INodeDirectory[\"directory\"] if dic[\"parent\"]==parent_id][0][\"child\"]\n",
    "            for child_id in child_list:\n",
    "                depth = recursion(child_id)\n",
    "                if depth > max_depth: max_depth = depth\n",
    "            return max_depth+1\n",
    "        except IndexError:\n",
    "            return 1\n",
    "    root_inumber = INodeDirectory[\"directory\"][0][\"parent\"]\n",
    "    return recursion(root_inumber)"
   ]
  },
  {
   "cell_type": "code",
   "execution_count": 30,
   "id": "d34b9ef7",
   "metadata": {
    "ExecuteTime": {
     "end_time": "2022-02-11T00:42:39.303758Z",
     "start_time": "2022-02-11T00:42:39.291789Z"
    }
   },
   "outputs": [],
   "source": [
    "def file_size(file_list):\n",
    "    size_list = [sum([int(block[\"numBytes\"]) for block in file[\"blocks\"]]) for file in file_list]\n",
    "    return {\"max\":max(size_list),\"min\":min(size_list)}"
   ]
  },
  {
   "cell_type": "code",
   "execution_count": 59,
   "id": "21bf43a6",
   "metadata": {
    "ExecuteTime": {
     "end_time": "2022-02-11T01:06:48.054296Z",
     "start_time": "2022-02-11T01:06:48.037341Z"
    }
   },
   "outputs": [],
   "source": [
    "def main(input_path,output_path):\n",
    "    xml = objectify.parse(open(input_path))\n",
    "    root = xml.getroot()\n",
    "    INodeDirectory = gen_IND(root)\n",
    "    INode = gen_IN(root)\n",
    "    fl = file_list(INode)\n",
    "    dl = dir_list(INode)\n",
    "    result = {\"number of files\": len(fl), \"number of directories\": len(dl),\n",
    "              \"maximum depth of directory tree\": find_directory_depth(INodeDirectory),\n",
    "              }\n",
    "\n",
    "    if fl == []:\n",
    "        \n",
    "        return result\n",
    "    else:\n",
    "        result[\"file size\"] = file_size(fl)\n",
    "        with open(output_path,\"w\") as handle:\n",
    "            handle.write(json.dumps(result))\n",
    "        return \"Finished\""
   ]
  },
  {
   "cell_type": "code",
   "execution_count": 60,
   "id": "163cb599",
   "metadata": {
    "ExecuteTime": {
     "end_time": "2022-02-11T01:06:49.608162Z",
     "start_time": "2022-02-11T01:06:49.596194Z"
    }
   },
   "outputs": [
    {
     "data": {
      "text/plain": [
       "'Finished'"
      ]
     },
     "execution_count": 60,
     "metadata": {},
     "output_type": "execute_result"
    }
   ],
   "source": [
    "main(input_path,output_path)"
   ]
  }
 ],
 "metadata": {
  "kernelspec": {
   "display_name": "Python 3 (ipykernel)",
   "language": "python",
   "name": "python3"
  },
  "language_info": {
   "codemirror_mode": {
    "name": "ipython",
    "version": 3
   },
   "file_extension": ".py",
   "mimetype": "text/x-python",
   "name": "python",
   "nbconvert_exporter": "python",
   "pygments_lexer": "ipython3",
   "version": "3.9.7"
  },
  "toc": {
   "base_numbering": 1,
   "nav_menu": {},
   "number_sections": true,
   "sideBar": true,
   "skip_h1_title": false,
   "title_cell": "Table of Contents",
   "title_sidebar": "Contents",
   "toc_cell": false,
   "toc_position": {},
   "toc_section_display": true,
   "toc_window_display": false
  },
  "varInspector": {
   "cols": {
    "lenName": 16,
    "lenType": 16,
    "lenVar": 40
   },
   "kernels_config": {
    "python": {
     "delete_cmd_postfix": "",
     "delete_cmd_prefix": "del ",
     "library": "var_list.py",
     "varRefreshCmd": "print(var_dic_list())"
    },
    "r": {
     "delete_cmd_postfix": ") ",
     "delete_cmd_prefix": "rm(",
     "library": "var_list.r",
     "varRefreshCmd": "cat(var_dic_list()) "
    }
   },
   "types_to_exclude": [
    "module",
    "function",
    "builtin_function_or_method",
    "instance",
    "_Feature"
   ],
   "window_display": false
  }
 },
 "nbformat": 4,
 "nbformat_minor": 5
}
